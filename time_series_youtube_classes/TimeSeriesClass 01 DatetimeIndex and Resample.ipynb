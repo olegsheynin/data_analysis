{
 "cells": [
  {
   "cell_type": "code",
   "execution_count": 2,
   "metadata": {},
   "outputs": [],
   "source": [
    "# https://www.youtube.com/watch?v=A9c7hGXQ5A8&list=PLeo1K3hjS3uvMADnFjV1yg6E5nVU4kOob\n",
    "\n",
    "# Sources\n",
    "# https://finance.yahoo.com/quote/SGGDX/history?p=SGGDX\n",
    "# https://finance.yahoo.com/quote/GLD/history?p=GLD\n",
    "# https://finance.yahoo.com/quote/%5EGSPC/history?p=%5EGSPC\n",
    "\n"
   ]
  },
  {
   "cell_type": "code",
   "execution_count": 4,
   "metadata": {},
   "outputs": [
    {
     "data": {
      "text/html": [
       "<div>\n",
       "<style scoped>\n",
       "    .dataframe tbody tr th:only-of-type {\n",
       "        vertical-align: middle;\n",
       "    }\n",
       "\n",
       "    .dataframe tbody tr th {\n",
       "        vertical-align: top;\n",
       "    }\n",
       "\n",
       "    .dataframe thead th {\n",
       "        text-align: right;\n",
       "    }\n",
       "</style>\n",
       "<table border=\"1\" class=\"dataframe\">\n",
       "  <thead>\n",
       "    <tr style=\"text-align: right;\">\n",
       "      <th></th>\n",
       "      <th>Date</th>\n",
       "      <th>Open</th>\n",
       "      <th>High</th>\n",
       "      <th>Low</th>\n",
       "      <th>Close</th>\n",
       "      <th>Adj Close</th>\n",
       "      <th>Volume</th>\n",
       "    </tr>\n",
       "  </thead>\n",
       "  <tbody>\n",
       "    <tr>\n",
       "      <th>0</th>\n",
       "      <td>2019-05-22</td>\n",
       "      <td>120.349998</td>\n",
       "      <td>120.500000</td>\n",
       "      <td>120.190002</td>\n",
       "      <td>120.239998</td>\n",
       "      <td>120.239998</td>\n",
       "      <td>3741800</td>\n",
       "    </tr>\n",
       "    <tr>\n",
       "      <th>1</th>\n",
       "      <td>2019-05-23</td>\n",
       "      <td>120.820000</td>\n",
       "      <td>121.519997</td>\n",
       "      <td>120.769997</td>\n",
       "      <td>121.169998</td>\n",
       "      <td>121.169998</td>\n",
       "      <td>6054600</td>\n",
       "    </tr>\n",
       "    <tr>\n",
       "      <th>2</th>\n",
       "      <td>2019-05-24</td>\n",
       "      <td>121.129997</td>\n",
       "      <td>121.309998</td>\n",
       "      <td>120.889999</td>\n",
       "      <td>121.300003</td>\n",
       "      <td>121.300003</td>\n",
       "      <td>2324700</td>\n",
       "    </tr>\n",
       "    <tr>\n",
       "      <th>3</th>\n",
       "      <td>2019-05-28</td>\n",
       "      <td>120.800003</td>\n",
       "      <td>120.839996</td>\n",
       "      <td>120.459999</td>\n",
       "      <td>120.830002</td>\n",
       "      <td>120.830002</td>\n",
       "      <td>4303500</td>\n",
       "    </tr>\n",
       "    <tr>\n",
       "      <th>4</th>\n",
       "      <td>2019-05-29</td>\n",
       "      <td>121.110001</td>\n",
       "      <td>121.260002</td>\n",
       "      <td>120.750000</td>\n",
       "      <td>120.870003</td>\n",
       "      <td>120.870003</td>\n",
       "      <td>4133200</td>\n",
       "    </tr>\n",
       "  </tbody>\n",
       "</table>\n",
       "</div>"
      ],
      "text/plain": [
       "         Date        Open        High         Low       Close   Adj Close  \\\n",
       "0  2019-05-22  120.349998  120.500000  120.190002  120.239998  120.239998   \n",
       "1  2019-05-23  120.820000  121.519997  120.769997  121.169998  121.169998   \n",
       "2  2019-05-24  121.129997  121.309998  120.889999  121.300003  121.300003   \n",
       "3  2019-05-28  120.800003  120.839996  120.459999  120.830002  120.830002   \n",
       "4  2019-05-29  121.110001  121.260002  120.750000  120.870003  120.870003   \n",
       "\n",
       "    Volume  \n",
       "0  3741800  \n",
       "1  6054600  \n",
       "2  2324700  \n",
       "3  4303500  \n",
       "4  4133200  "
      ]
     },
     "execution_count": 4,
     "metadata": {},
     "output_type": "execute_result"
    }
   ],
   "source": [
    "import pandas as pd\n",
    "\n",
    "df = pd.read_csv(\"GLD.csv\")\n",
    "df.head(5)"
   ]
  },
  {
   "cell_type": "code",
   "execution_count": 5,
   "metadata": {},
   "outputs": [
    {
     "data": {
      "text/plain": [
       "str"
      ]
     },
     "execution_count": 5,
     "metadata": {},
     "output_type": "execute_result"
    }
   ],
   "source": [
    "# DatetimeIndex and Resampling\n",
    "type(df.Date[0])"
   ]
  },
  {
   "cell_type": "code",
   "execution_count": 10,
   "metadata": {},
   "outputs": [
    {
     "name": "stdout",
     "output_type": "stream",
     "text": [
      "        Date        Open        High         Low       Close   Adj Close  \\\n",
      "0 2019-05-22  120.349998  120.500000  120.190002  120.239998  120.239998   \n",
      "1 2019-05-23  120.820000  121.519997  120.769997  121.169998  121.169998   \n",
      "2 2019-05-24  121.129997  121.309998  120.889999  121.300003  121.300003   \n",
      "3 2019-05-28  120.800003  120.839996  120.459999  120.830002  120.830002   \n",
      "4 2019-05-29  121.110001  121.260002  120.750000  120.870003  120.870003   \n",
      "\n",
      "    Volume  \n",
      "0  3741800  \n",
      "1  6054600  \n",
      "2  2324700  \n",
      "3  4303500  \n",
      "4  4133200  \n"
     ]
    },
    {
     "data": {
      "text/plain": [
       "pandas._libs.tslibs.timestamps.Timestamp"
      ]
     },
     "execution_count": 10,
     "metadata": {},
     "output_type": "execute_result"
    }
   ],
   "source": [
    "import pandas as pd\n",
    "\n",
    "df = pd.read_csv(\"GLD.csv\", parse_dates=[\"Date\"]) # specifying the date type column\n",
    "print(df.head(5))\n",
    "type(df.Date[0]) "
   ]
  },
  {
   "cell_type": "code",
   "execution_count": 16,
   "metadata": {},
   "outputs": [
    {
     "name": "stdout",
     "output_type": "stream",
     "text": [
      "                  Open        High         Low       Close   Adj Close  \\\n",
      "Date                                                                     \n",
      "2019-05-22  120.349998  120.500000  120.190002  120.239998  120.239998   \n",
      "2019-05-23  120.820000  121.519997  120.769997  121.169998  121.169998   \n",
      "2019-05-24  121.129997  121.309998  120.889999  121.300003  121.300003   \n",
      "2019-05-28  120.800003  120.839996  120.459999  120.830002  120.830002   \n",
      "2019-05-29  121.110001  121.260002  120.750000  120.870003  120.870003   \n",
      "\n",
      "             Volume  \n",
      "Date                 \n",
      "2019-05-22  3741800  \n",
      "2019-05-23  6054600  \n",
      "2019-05-24  2324700  \n",
      "2019-05-28  4303500  \n",
      "2019-05-29  4133200  \n"
     ]
    },
    {
     "data": {
      "text/plain": [
       "DatetimeIndex(['2019-05-22', '2019-05-23', '2019-05-24', '2019-05-28',\n",
       "               '2019-05-29', '2019-05-30', '2019-05-31', '2019-06-03',\n",
       "               '2019-06-04', '2019-06-05',\n",
       "               ...\n",
       "               '2020-05-11', '2020-05-12', '2020-05-13', '2020-05-14',\n",
       "               '2020-05-15', '2020-05-18', '2020-05-19', '2020-05-20',\n",
       "               '2020-05-21', '2020-05-22'],\n",
       "              dtype='datetime64[ns]', name='Date', length=254, freq=None)"
      ]
     },
     "execution_count": 16,
     "metadata": {},
     "output_type": "execute_result"
    }
   ],
   "source": [
    "# changing the index to be datetime\n",
    "import pandas as pd\n",
    "\n",
    "df = pd.read_csv(\"GLD.csv\", parse_dates=[\"Date\"], index_col=\"Date\") # index_col\n",
    "print(df.head(5))\n",
    "#type(df.Date[0]) # would fail\n",
    "df.index # see the type \"DatetimeIndex\""
   ]
  },
  {
   "cell_type": "code",
   "execution_count": 18,
   "metadata": {},
   "outputs": [
    {
     "data": {
      "text/html": [
       "<div>\n",
       "<style scoped>\n",
       "    .dataframe tbody tr th:only-of-type {\n",
       "        vertical-align: middle;\n",
       "    }\n",
       "\n",
       "    .dataframe tbody tr th {\n",
       "        vertical-align: top;\n",
       "    }\n",
       "\n",
       "    .dataframe thead th {\n",
       "        text-align: right;\n",
       "    }\n",
       "</style>\n",
       "<table border=\"1\" class=\"dataframe\">\n",
       "  <thead>\n",
       "    <tr style=\"text-align: right;\">\n",
       "      <th></th>\n",
       "      <th>Open</th>\n",
       "      <th>High</th>\n",
       "      <th>Low</th>\n",
       "      <th>Close</th>\n",
       "      <th>Adj Close</th>\n",
       "      <th>Volume</th>\n",
       "    </tr>\n",
       "    <tr>\n",
       "      <th>Date</th>\n",
       "      <th></th>\n",
       "      <th></th>\n",
       "      <th></th>\n",
       "      <th></th>\n",
       "      <th></th>\n",
       "      <th></th>\n",
       "    </tr>\n",
       "  </thead>\n",
       "  <tbody>\n",
       "    <tr>\n",
       "      <th>2019-12-02</th>\n",
       "      <td>137.320007</td>\n",
       "      <td>138.089996</td>\n",
       "      <td>137.300003</td>\n",
       "      <td>137.789993</td>\n",
       "      <td>137.789993</td>\n",
       "      <td>8274700</td>\n",
       "    </tr>\n",
       "    <tr>\n",
       "      <th>2019-12-03</th>\n",
       "      <td>139.039993</td>\n",
       "      <td>139.570007</td>\n",
       "      <td>138.970001</td>\n",
       "      <td>139.110001</td>\n",
       "      <td>139.110001</td>\n",
       "      <td>8481700</td>\n",
       "    </tr>\n",
       "    <tr>\n",
       "      <th>2019-12-04</th>\n",
       "      <td>139.160004</td>\n",
       "      <td>139.169998</td>\n",
       "      <td>138.589996</td>\n",
       "      <td>138.919998</td>\n",
       "      <td>138.919998</td>\n",
       "      <td>6322300</td>\n",
       "    </tr>\n",
       "    <tr>\n",
       "      <th>2019-12-05</th>\n",
       "      <td>138.800003</td>\n",
       "      <td>139.449997</td>\n",
       "      <td>138.789993</td>\n",
       "      <td>139.000000</td>\n",
       "      <td>139.000000</td>\n",
       "      <td>5671500</td>\n",
       "    </tr>\n",
       "    <tr>\n",
       "      <th>2019-12-06</th>\n",
       "      <td>137.759995</td>\n",
       "      <td>137.830002</td>\n",
       "      <td>137.399994</td>\n",
       "      <td>137.619995</td>\n",
       "      <td>137.619995</td>\n",
       "      <td>8714500</td>\n",
       "    </tr>\n",
       "    <tr>\n",
       "      <th>2019-12-09</th>\n",
       "      <td>137.800003</td>\n",
       "      <td>137.809998</td>\n",
       "      <td>137.449997</td>\n",
       "      <td>137.580002</td>\n",
       "      <td>137.580002</td>\n",
       "      <td>2711600</td>\n",
       "    </tr>\n",
       "    <tr>\n",
       "      <th>2019-12-10</th>\n",
       "      <td>138.250000</td>\n",
       "      <td>138.330002</td>\n",
       "      <td>137.740005</td>\n",
       "      <td>137.970001</td>\n",
       "      <td>137.970001</td>\n",
       "      <td>3240800</td>\n",
       "    </tr>\n",
       "    <tr>\n",
       "      <th>2019-12-11</th>\n",
       "      <td>138.199997</td>\n",
       "      <td>139.300003</td>\n",
       "      <td>138.119995</td>\n",
       "      <td>138.919998</td>\n",
       "      <td>138.919998</td>\n",
       "      <td>6097500</td>\n",
       "    </tr>\n",
       "    <tr>\n",
       "      <th>2019-12-12</th>\n",
       "      <td>139.779999</td>\n",
       "      <td>139.850006</td>\n",
       "      <td>137.880005</td>\n",
       "      <td>138.429993</td>\n",
       "      <td>138.429993</td>\n",
       "      <td>8815100</td>\n",
       "    </tr>\n",
       "    <tr>\n",
       "      <th>2019-12-13</th>\n",
       "      <td>138.520004</td>\n",
       "      <td>139.210007</td>\n",
       "      <td>137.979996</td>\n",
       "      <td>139.050003</td>\n",
       "      <td>139.050003</td>\n",
       "      <td>6964300</td>\n",
       "    </tr>\n",
       "    <tr>\n",
       "      <th>2019-12-16</th>\n",
       "      <td>139.199997</td>\n",
       "      <td>139.389999</td>\n",
       "      <td>138.800003</td>\n",
       "      <td>139.039993</td>\n",
       "      <td>139.039993</td>\n",
       "      <td>4646100</td>\n",
       "    </tr>\n",
       "    <tr>\n",
       "      <th>2019-12-17</th>\n",
       "      <td>139.020004</td>\n",
       "      <td>139.300003</td>\n",
       "      <td>138.850006</td>\n",
       "      <td>139.009995</td>\n",
       "      <td>139.009995</td>\n",
       "      <td>4287500</td>\n",
       "    </tr>\n",
       "    <tr>\n",
       "      <th>2019-12-18</th>\n",
       "      <td>138.860001</td>\n",
       "      <td>139.250000</td>\n",
       "      <td>138.809998</td>\n",
       "      <td>139.020004</td>\n",
       "      <td>139.020004</td>\n",
       "      <td>3607600</td>\n",
       "    </tr>\n",
       "    <tr>\n",
       "      <th>2019-12-19</th>\n",
       "      <td>139.039993</td>\n",
       "      <td>139.550003</td>\n",
       "      <td>138.869995</td>\n",
       "      <td>139.380005</td>\n",
       "      <td>139.380005</td>\n",
       "      <td>4975000</td>\n",
       "    </tr>\n",
       "    <tr>\n",
       "      <th>2019-12-20</th>\n",
       "      <td>139.369995</td>\n",
       "      <td>139.520004</td>\n",
       "      <td>138.979996</td>\n",
       "      <td>139.520004</td>\n",
       "      <td>139.520004</td>\n",
       "      <td>4463900</td>\n",
       "    </tr>\n",
       "    <tr>\n",
       "      <th>2019-12-23</th>\n",
       "      <td>139.529999</td>\n",
       "      <td>139.960007</td>\n",
       "      <td>139.529999</td>\n",
       "      <td>139.949997</td>\n",
       "      <td>139.949997</td>\n",
       "      <td>5180900</td>\n",
       "    </tr>\n",
       "    <tr>\n",
       "      <th>2019-12-24</th>\n",
       "      <td>140.440002</td>\n",
       "      <td>141.330002</td>\n",
       "      <td>140.429993</td>\n",
       "      <td>141.270004</td>\n",
       "      <td>141.270004</td>\n",
       "      <td>5303700</td>\n",
       "    </tr>\n",
       "    <tr>\n",
       "      <th>2019-12-26</th>\n",
       "      <td>142.059998</td>\n",
       "      <td>142.470001</td>\n",
       "      <td>141.910004</td>\n",
       "      <td>142.380005</td>\n",
       "      <td>142.380005</td>\n",
       "      <td>8342500</td>\n",
       "    </tr>\n",
       "    <tr>\n",
       "      <th>2019-12-27</th>\n",
       "      <td>142.259995</td>\n",
       "      <td>142.729996</td>\n",
       "      <td>142.169998</td>\n",
       "      <td>142.330002</td>\n",
       "      <td>142.330002</td>\n",
       "      <td>5119900</td>\n",
       "    </tr>\n",
       "    <tr>\n",
       "      <th>2019-12-30</th>\n",
       "      <td>142.559998</td>\n",
       "      <td>142.800003</td>\n",
       "      <td>142.460007</td>\n",
       "      <td>142.630005</td>\n",
       "      <td>142.630005</td>\n",
       "      <td>4810600</td>\n",
       "    </tr>\n",
       "    <tr>\n",
       "      <th>2019-12-31</th>\n",
       "      <td>143.309998</td>\n",
       "      <td>143.600006</td>\n",
       "      <td>142.800003</td>\n",
       "      <td>142.899994</td>\n",
       "      <td>142.899994</td>\n",
       "      <td>5313500</td>\n",
       "    </tr>\n",
       "  </tbody>\n",
       "</table>\n",
       "</div>"
      ],
      "text/plain": [
       "                  Open        High         Low       Close   Adj Close  \\\n",
       "Date                                                                     \n",
       "2019-12-02  137.320007  138.089996  137.300003  137.789993  137.789993   \n",
       "2019-12-03  139.039993  139.570007  138.970001  139.110001  139.110001   \n",
       "2019-12-04  139.160004  139.169998  138.589996  138.919998  138.919998   \n",
       "2019-12-05  138.800003  139.449997  138.789993  139.000000  139.000000   \n",
       "2019-12-06  137.759995  137.830002  137.399994  137.619995  137.619995   \n",
       "2019-12-09  137.800003  137.809998  137.449997  137.580002  137.580002   \n",
       "2019-12-10  138.250000  138.330002  137.740005  137.970001  137.970001   \n",
       "2019-12-11  138.199997  139.300003  138.119995  138.919998  138.919998   \n",
       "2019-12-12  139.779999  139.850006  137.880005  138.429993  138.429993   \n",
       "2019-12-13  138.520004  139.210007  137.979996  139.050003  139.050003   \n",
       "2019-12-16  139.199997  139.389999  138.800003  139.039993  139.039993   \n",
       "2019-12-17  139.020004  139.300003  138.850006  139.009995  139.009995   \n",
       "2019-12-18  138.860001  139.250000  138.809998  139.020004  139.020004   \n",
       "2019-12-19  139.039993  139.550003  138.869995  139.380005  139.380005   \n",
       "2019-12-20  139.369995  139.520004  138.979996  139.520004  139.520004   \n",
       "2019-12-23  139.529999  139.960007  139.529999  139.949997  139.949997   \n",
       "2019-12-24  140.440002  141.330002  140.429993  141.270004  141.270004   \n",
       "2019-12-26  142.059998  142.470001  141.910004  142.380005  142.380005   \n",
       "2019-12-27  142.259995  142.729996  142.169998  142.330002  142.330002   \n",
       "2019-12-30  142.559998  142.800003  142.460007  142.630005  142.630005   \n",
       "2019-12-31  143.309998  143.600006  142.800003  142.899994  142.899994   \n",
       "\n",
       "             Volume  \n",
       "Date                 \n",
       "2019-12-02  8274700  \n",
       "2019-12-03  8481700  \n",
       "2019-12-04  6322300  \n",
       "2019-12-05  5671500  \n",
       "2019-12-06  8714500  \n",
       "2019-12-09  2711600  \n",
       "2019-12-10  3240800  \n",
       "2019-12-11  6097500  \n",
       "2019-12-12  8815100  \n",
       "2019-12-13  6964300  \n",
       "2019-12-16  4646100  \n",
       "2019-12-17  4287500  \n",
       "2019-12-18  3607600  \n",
       "2019-12-19  4975000  \n",
       "2019-12-20  4463900  \n",
       "2019-12-23  5180900  \n",
       "2019-12-24  5303700  \n",
       "2019-12-26  8342500  \n",
       "2019-12-27  5119900  \n",
       "2019-12-30  4810600  \n",
       "2019-12-31  5313500  "
      ]
     },
     "execution_count": 18,
     "metadata": {},
     "output_type": "execute_result"
    }
   ],
   "source": [
    "# Retrieve specific month only\n",
    "df[\"2019-12\"]"
   ]
  },
  {
   "cell_type": "code",
   "execution_count": 23,
   "metadata": {},
   "outputs": [
    {
     "name": "stdout",
     "output_type": "stream",
     "text": [
      "Date\n",
      "2019-12-02    137.789993\n",
      "2019-12-03    139.110001\n",
      "2019-12-04    138.919998\n",
      "2019-12-05    139.000000\n",
      "2019-12-06    137.619995\n",
      "2019-12-09    137.580002\n",
      "2019-12-10    137.970001\n",
      "2019-12-11    138.919998\n",
      "2019-12-12    138.429993\n",
      "2019-12-13    139.050003\n",
      "2019-12-16    139.039993\n",
      "2019-12-17    139.009995\n",
      "2019-12-18    139.020004\n",
      "2019-12-19    139.380005\n",
      "2019-12-20    139.520004\n",
      "2019-12-23    139.949997\n",
      "2019-12-24    141.270004\n",
      "2019-12-26    142.380005\n",
      "2019-12-27    142.330002\n",
      "2019-12-30    142.630005\n",
      "2019-12-31    142.899994\n",
      "Name: Close, dtype: float64\n"
     ]
    }
   ],
   "source": [
    "# Get close price\n",
    "print(df[\"2019-12\"].Close)"
   ]
  },
  {
   "cell_type": "code",
   "execution_count": 26,
   "metadata": {},
   "outputs": [
    {
     "name": "stdout",
     "output_type": "stream",
     "text": [
      "139.61047580952382\n"
     ]
    }
   ],
   "source": [
    "# Get average close price\n",
    "print(df[\"2019-12\"].Close.mean())"
   ]
  },
  {
   "cell_type": "code",
   "execution_count": 31,
   "metadata": {},
   "outputs": [
    {
     "data": {
      "text/plain": [
       "Date\n",
       "2019-12-05    139.000000\n",
       "2019-12-06    137.619995\n",
       "2019-12-09    137.580002\n",
       "2019-12-10    137.970001\n",
       "2019-12-11    138.919998\n",
       "2019-12-12    138.429993\n",
       "Name: Adj_Close, dtype: float64"
      ]
     },
     "execution_count": 31,
     "metadata": {},
     "output_type": "execute_result"
    }
   ],
   "source": [
    "# Ranges\n",
    "# Replace spaces in column\n",
    "df.columns = [c.replace(' ', '_') for c in df.columns]\n",
    "#\n",
    "# get range\n",
    "df[\"2019-12-05\":\"2019-12-12\"].Adj_Close"
   ]
  },
  {
   "cell_type": "code",
   "execution_count": 35,
   "metadata": {},
   "outputs": [
    {
     "data": {
      "text/plain": [
       "Date\n",
       "2019-05-31    121.347144\n",
       "2019-06-30    128.471500\n",
       "2019-07-31    133.484090\n",
       "2019-08-31    141.822273\n",
       "2019-09-30    142.060500\n",
       "2019-10-31    140.874782\n",
       "2019-11-30    138.570500\n",
       "2019-12-31    139.610476\n",
       "2020-01-31    147.021429\n",
       "2020-02-29    150.152104\n",
       "2020-03-31    149.594999\n",
       "2020-04-30    158.829999\n",
       "2020-05-31    161.671061\n",
       "Freq: M, Name: Adj_Close, dtype: float64"
      ]
     },
     "execution_count": 35,
     "metadata": {},
     "output_type": "execute_result"
    }
   ],
   "source": [
    "# Resampling\n",
    "# Get Monthly average Adj_Close price\n",
    "df.Adj_Close.resample('M').mean()"
   ]
  },
  {
   "cell_type": "code",
   "execution_count": 38,
   "metadata": {},
   "outputs": [
    {
     "data": {
      "text/plain": [
       "<matplotlib.axes._subplots.AxesSubplot at 0x7fbee1aec610>"
      ]
     },
     "execution_count": 38,
     "metadata": {},
     "output_type": "execute_result"
    },
    {
     "data": {
      "image/png": "[encoded data removed]",
      "text/plain": [
       "<Figure size 432x288 with 1 Axes>"
      ]
     },
     "metadata": {
      "needs_background": "light"
     },
     "output_type": "display_data"
    }
   ],
   "source": [
    "# plotting\n",
    "from matplotlib import pyplot as plt\n",
    "df.Adj_Close.resample('W').mean().plot() # weekly"
   ]
  },
  {
   "cell_type": "code",
   "execution_count": 41,
   "metadata": {},
   "outputs": [
    {
     "data": {
      "text/plain": [
       "<matplotlib.axes._subplots.AxesSubplot at 0x7fbee1834e10>"
      ]
     },
     "execution_count": 41,
     "metadata": {},
     "output_type": "execute_result"
    },
    {
     "data": {
      "image/png": "[encoded data removed]",
      "text/plain": [
       "<Figure size 432x288 with 1 Axes>"
      ]
     },
     "metadata": {
      "needs_background": "light"
     },
     "output_type": "display_data"
    }
   ],
   "source": [
    "# plotting bar chart\n",
    "from matplotlib import pyplot as plt\n",
    "df.Adj_Close.resample('Q').mean().plot(kind=\"bar\") # quarterly bar chart"
   ]
  },
  {
   "cell_type": "code",
   "execution_count": null,
   "metadata": {},
   "outputs": [],
   "source": []
  }
 ],
 "metadata": {
  "kernelspec": {
   "display_name": "Python 3",
   "language": "python",
   "name": "python3"
  },
  "language_info": {
   "codemirror_mode": {
    "name": "ipython",
    "version": 3
   },
   "file_extension": ".py",
   "mimetype": "text/x-python",
   "name": "python",
   "nbconvert_exporter": "python",
   "pygments_lexer": "ipython3",
   "version": "3.7.6"
  }
 },
 "nbformat": 4,
 "nbformat_minor": 4
}
