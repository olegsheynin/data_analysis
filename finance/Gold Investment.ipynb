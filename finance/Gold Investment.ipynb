{
 "cells": [
  {
   "cell_type": "markdown",
   "metadata": {},
   "source": [
    "\n",
    "\n",
    "https://towardsdatascience.com/stockstats-a-handy-stocks-oriented-pandas-dataframe-wrapper-a879a06d9c3f\n",
    "\n",
    "https://github.com/jealous/stockstats\n",
    "\n",
    "# pip install yfinance\n",
    "# pip install stockstats\n"
   ]
  },
  {
   "cell_type": "code",
   "execution_count": null,
   "metadata": {},
   "outputs": [],
   "source": [
    "import yfinance as yf\n",
    "from stockstats import StockDataFrame\n",
    "\n",
    "\n",
    "sggdx_df = StockDataFrame.retype(yf.download(\"SGGDX\",\n",
    "                 start=\"2020-01-01\",\n",
    "                 end=\"2020-12-31\"))\n",
    "hui_df = StockDataFrame.retype(yf.download(\"GC=F\",\n",
    "                 start=\"2020-01-01\",\n",
    "                 end=\"2020-12-31\"))\n",
    "hui_df\n",
    "sggdx_df"
   ]
  },
  {
   "cell_type": "code",
   "execution_count": null,
   "metadata": {},
   "outputs": [],
   "source": [
    "sggdx_df[[\"rate\"]].plot(title=\"Returns\")"
   ]
  },
  {
   "cell_type": "markdown",
   "metadata": {},
   "source": [
    "change / rate — these are the simple returns, that is the daily percentage change between the stock prices. Values are expressed in percentages.\n",
    "close_-1_d — this is the price difference between time t and t-1. We will get back later to this special way of requesting values is stockstats.\n",
    "log-ret — the log returns."
   ]
  },
  {
   "cell_type": "code",
   "execution_count": null,
   "metadata": {},
   "outputs": [],
   "source": [
    "# stock_df[[\"close_10_sma\", \"close_50_sma\"]]\n",
    "# stock_df[[\"close\", \"close_10_sma\", \"close_50_sma\"]]\n",
    "sggdx_df[[\"close\", \"close_10_sma\", \"close_50_sma\"]].plot(title = \"SMA example\")"
   ]
  },
  {
   "cell_type": "markdown",
   "metadata": {},
   "source": [
    "On a side note, the StockDataFrame still retains the functionalities of the pandas DataFrame. So using a single square bracket to request a column would result in a pandas Series. And we can use pandas indexing to slice the DataFrame, for example"
   ]
  },
  {
   "cell_type": "code",
   "execution_count": null,
   "metadata": {},
   "outputs": [],
   "source": [
    "sggdx_df.loc[\"2020-06-01\":, [\"close\", \"close_10_sma\", \"close_50_sma\"]].plot(title=\"SMA example from 2020-06\");"
   ]
  },
  {
   "cell_type": "markdown",
   "metadata": {},
   "source": [
    "Another TI we can easily calculate and plot are the Bollinger Bands."
   ]
  },
  {
   "cell_type": "code",
   "execution_count": null,
   "metadata": {},
   "outputs": [],
   "source": [
    "stock_df[[\"close\", \"boll\", \"boll_ub\", \"boll_lb\"]].plot(title=\"Bollinger Bands example\");"
   ]
  }
 ],
 "metadata": {
  "kernelspec": {
   "display_name": "Python 3",
   "language": "python",
   "name": "python3"
  },
  "language_info": {
   "codemirror_mode": {
    "name": "ipython",
    "version": 3
   },
   "file_extension": ".py",
   "mimetype": "text/x-python",
   "name": "python",
   "nbconvert_exporter": "python",
   "pygments_lexer": "ipython3",
   "version": "3.8.5"
  }
 },
 "nbformat": 4,
 "nbformat_minor": 4
}
