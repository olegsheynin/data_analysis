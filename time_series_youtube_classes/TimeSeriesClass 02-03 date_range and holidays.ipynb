{
 "cells": [
  {
   "cell_type": "code",
   "execution_count": 1,
   "metadata": {},
   "outputs": [],
   "source": [
    "# https://www.youtube.com/watch?v=A9c7hGXQ5A8&list=PLeo1K3hjS3uvMADnFjV1yg6E5nVU4kOob&index=2\n",
    "\n",
    "# Sources\n",
    "# https://finance.yahoo.com/quote/SGGDX/history?p=SGGDX\n",
    "# https://finance.yahoo.com/quote/GLD/history?p=GLD\n",
    "# https://finance.yahoo.com/quote/%5EGSPC/history?p=%5EGSPC\n",
    "\n"
   ]
  },
  {
   "cell_type": "code",
   "execution_count": 2,
   "metadata": {},
   "outputs": [
    {
     "data": {
      "text/html": [
       "<div>\n",
       "<style scoped>\n",
       "    .dataframe tbody tr th:only-of-type {\n",
       "        vertical-align: middle;\n",
       "    }\n",
       "\n",
       "    .dataframe tbody tr th {\n",
       "        vertical-align: top;\n",
       "    }\n",
       "\n",
       "    .dataframe thead th {\n",
       "        text-align: right;\n",
       "    }\n",
       "</style>\n",
       "<table border=\"1\" class=\"dataframe\">\n",
       "  <thead>\n",
       "    <tr style=\"text-align: right;\">\n",
       "      <th></th>\n",
       "      <th>Open</th>\n",
       "      <th>High</th>\n",
       "      <th>Low</th>\n",
       "      <th>Close</th>\n",
       "      <th>Adj Close</th>\n",
       "      <th>Volume</th>\n",
       "    </tr>\n",
       "  </thead>\n",
       "  <tbody>\n",
       "    <tr>\n",
       "      <th>0</th>\n",
       "      <td>120.349998</td>\n",
       "      <td>120.500000</td>\n",
       "      <td>120.190002</td>\n",
       "      <td>120.239998</td>\n",
       "      <td>120.239998</td>\n",
       "      <td>3741800</td>\n",
       "    </tr>\n",
       "    <tr>\n",
       "      <th>1</th>\n",
       "      <td>120.820000</td>\n",
       "      <td>121.519997</td>\n",
       "      <td>120.769997</td>\n",
       "      <td>121.169998</td>\n",
       "      <td>121.169998</td>\n",
       "      <td>6054600</td>\n",
       "    </tr>\n",
       "    <tr>\n",
       "      <th>2</th>\n",
       "      <td>121.129997</td>\n",
       "      <td>121.309998</td>\n",
       "      <td>120.889999</td>\n",
       "      <td>121.300003</td>\n",
       "      <td>121.300003</td>\n",
       "      <td>2324700</td>\n",
       "    </tr>\n",
       "    <tr>\n",
       "      <th>3</th>\n",
       "      <td>120.800003</td>\n",
       "      <td>120.839996</td>\n",
       "      <td>120.459999</td>\n",
       "      <td>120.830002</td>\n",
       "      <td>120.830002</td>\n",
       "      <td>4303500</td>\n",
       "    </tr>\n",
       "    <tr>\n",
       "      <th>4</th>\n",
       "      <td>121.110001</td>\n",
       "      <td>121.260002</td>\n",
       "      <td>120.750000</td>\n",
       "      <td>120.870003</td>\n",
       "      <td>120.870003</td>\n",
       "      <td>4133200</td>\n",
       "    </tr>\n",
       "  </tbody>\n",
       "</table>\n",
       "</div>"
      ],
      "text/plain": [
       "         Open        High         Low       Close   Adj Close   Volume\n",
       "0  120.349998  120.500000  120.190002  120.239998  120.239998  3741800\n",
       "1  120.820000  121.519997  120.769997  121.169998  121.169998  6054600\n",
       "2  121.129997  121.309998  120.889999  121.300003  121.300003  2324700\n",
       "3  120.800003  120.839996  120.459999  120.830002  120.830002  4303500\n",
       "4  121.110001  121.260002  120.750000  120.870003  120.870003  4133200"
      ]
     },
     "execution_count": 2,
     "metadata": {},
     "output_type": "execute_result"
    }
   ],
   "source": [
    "import pandas as pd\n",
    "\n",
    "df = pd.read_csv(\"GLD-no-dates.csv\")\n",
    "df.head(5)"
   ]
  },
  {
   "cell_type": "code",
   "execution_count": 3,
   "metadata": {},
   "outputs": [
    {
     "data": {
      "text/plain": [
       "DatetimeIndex(['2019-05-22', '2019-05-23', '2019-05-24', '2019-05-27',\n",
       "               '2019-05-28', '2019-05-29', '2019-05-30', '2019-05-31',\n",
       "               '2019-06-03', '2019-06-04',\n",
       "               ...\n",
       "               '2020-05-11', '2020-05-12', '2020-05-13', '2020-05-14',\n",
       "               '2020-05-15', '2020-05-18', '2020-05-19', '2020-05-20',\n",
       "               '2020-05-21', '2020-05-22'],\n",
       "              dtype='datetime64[ns]', length=263, freq='B')"
      ]
     },
     "execution_count": 3,
     "metadata": {},
     "output_type": "execute_result"
    }
   ],
   "source": [
    "# date_range generates dates  - if they're missing\n",
    "rng = pd.date_range(start=\"2019-05-22\", end=\"2020-05-22\", freq='B') # business days\n",
    "rng"
   ]
  },
  {
   "cell_type": "code",
   "execution_count": 4,
   "metadata": {},
   "outputs": [
    {
     "ename": "ValueError",
     "evalue": "Length mismatch: Expected 253 rows, received array of length 263",
     "output_type": "error",
     "traceback": [
      "\u001b[0;31m---------------------------------------------------------------------------\u001b[0m",
      "\u001b[0;31mValueError\u001b[0m                                Traceback (most recent call last)",
      "\u001b[0;32m<ipython-input-4-62667c2fb3a3>\u001b[0m in \u001b[0;36m<module>\u001b[0;34m\u001b[0m\n\u001b[0;32m----> 1\u001b[0;31m \u001b[0mdf\u001b[0m\u001b[0;34m.\u001b[0m\u001b[0mset_index\u001b[0m\u001b[0;34m(\u001b[0m\u001b[0mrng\u001b[0m\u001b[0;34m,\u001b[0m \u001b[0minplace\u001b[0m\u001b[0;34m=\u001b[0m\u001b[0;32mTrue\u001b[0m\u001b[0;34m)\u001b[0m \u001b[0;31m#will fail, need to exclude holidays\u001b[0m\u001b[0;34m\u001b[0m\u001b[0;34m\u001b[0m\u001b[0m\n\u001b[0m",
      "\u001b[0;32m~/anaconda3/lib/python3.7/site-packages/pandas/core/frame.py\u001b[0m in \u001b[0;36mset_index\u001b[0;34m(self, keys, drop, append, inplace, verify_integrity)\u001b[0m\n\u001b[1;32m   4345\u001b[0m                 \u001b[0;31m# ensure_index_from_sequences would not raise for append=False.\u001b[0m\u001b[0;34m\u001b[0m\u001b[0;34m\u001b[0m\u001b[0;34m\u001b[0m\u001b[0m\n\u001b[1;32m   4346\u001b[0m                 raise ValueError(\n\u001b[0;32m-> 4347\u001b[0;31m                     \u001b[0;34mf\"Length mismatch: Expected {len(self)} rows, \"\u001b[0m\u001b[0;34m\u001b[0m\u001b[0;34m\u001b[0m\u001b[0m\n\u001b[0m\u001b[1;32m   4348\u001b[0m                     \u001b[0;34mf\"received array of length {len(arrays[-1])}\"\u001b[0m\u001b[0;34m\u001b[0m\u001b[0;34m\u001b[0m\u001b[0m\n\u001b[1;32m   4349\u001b[0m                 )\n",
      "\u001b[0;31mValueError\u001b[0m: Length mismatch: Expected 253 rows, received array of length 263"
     ]
    }
   ],
   "source": [
    "df.set_index(rng, inplace=True) #will fail, need to exclude holidays\n"
   ]
  },
  {
   "cell_type": "code",
   "execution_count": 5,
   "metadata": {},
   "outputs": [
    {
     "data": {
      "text/plain": [
       "DatetimeIndex(['2019-05-22', '2019-05-23', '2019-05-24', '2019-05-28',\n",
       "               '2019-05-29', '2019-05-30', '2019-05-31', '2019-06-03',\n",
       "               '2019-06-04', '2019-06-05',\n",
       "               ...\n",
       "               '2020-05-11', '2020-05-12', '2020-05-13', '2020-05-14',\n",
       "               '2020-05-15', '2020-05-18', '2020-05-19', '2020-05-20',\n",
       "               '2020-05-21', '2020-05-22'],\n",
       "              dtype='datetime64[ns]', length=253, freq='C')"
      ]
     },
     "execution_count": 5,
     "metadata": {},
     "output_type": "execute_result"
    }
   ],
   "source": [
    "from pandas.tseries.holiday import USFederalHolidayCalendar\n",
    "from pandas.tseries.offsets import CustomBusinessDay\n",
    "\n",
    "us_bd = CustomBusinessDay(calendar=USFederalHolidayCalendar())\n",
    "rng = pd.bdate_range(start=\"2019-05-22\", end=\"2020-05-22\", freq=us_bd) # business days\n",
    "rng"
   ]
  },
  {
   "cell_type": "code",
   "execution_count": null,
   "metadata": {},
   "outputs": [],
   "source": [
    "df.set_index(rng, inplace=True)\n",
    "\n",
    "%matplotlib inline\n",
    "df.Close.plot()"
   ]
  },
  {
   "cell_type": "code",
   "execution_count": null,
   "metadata": {},
   "outputs": [],
   "source": [
    "dec_df = df[\"2019-12-01\": \"2020-01-01\"]\n",
    "dec_df.Close.plot()"
   ]
  },
  {
   "cell_type": "code",
   "execution_count": null,
   "metadata": {},
   "outputs": [],
   "source": [
    "# replace non-trading days with previous days values\n",
    "# important \n",
    "dec_df.asfreq('D', method='pad').Close.plot() # padding daily prices"
   ]
  },
  {
   "cell_type": "code",
   "execution_count": null,
   "metadata": {},
   "outputs": [],
   "source": [
    "# possible to add multiplier: (every 3 days)\n",
    "# https://pandas.pydata.org/docs/user_guide/timeseries.html#timeseries-offset-aliases\n",
    "\n",
    "df.asfreq('3D', method='pad').Close.plot()"
   ]
  },
  {
   "cell_type": "code",
   "execution_count": null,
   "metadata": {},
   "outputs": [],
   "source": [
    "# if you know only start date, your range could include\n",
    "# number of periods, \n",
    "rng = pd.date_range(start=\"2019-05-22\", periods=253, freq=us_bd)\n",
    "rng"
   ]
  },
  {
   "cell_type": "code",
   "execution_count": null,
   "metadata": {},
   "outputs": [],
   "source": [
    "# generate random numbers\n",
    "import numpy as np\n",
    "randarr = np.random.randint(1,10,len(rng))\n",
    "\n",
    "# create time series\n",
    "ts = pd.Series(randarr, index=rng)\n",
    "ts"
   ]
  },
  {
   "cell_type": "code",
   "execution_count": null,
   "metadata": {},
   "outputs": [],
   "source": [
    "# Handling holidays - more details\n",
    "# Custom calendar\n",
    "# Implement your own calendar class derived from AbstractHolidayCalendar \n",
    "# example to be cloned: USFederalHolidayCalendar\n",
    "# CustomBusinessDay can customize weekends (FRI & SAT as in Egypt)\n",
    "\n",
    "my_holidays = [\"2019-03-31\"]\n",
    "my_ideal_week = CustomBusinessDay(weekmask=\"Tue Wed Thu\", holidays=my_holidays)\n",
    "rng = pd.date_range(start=\"2019-05-22\", periods=1000, freq=my_ideal_week)\n",
    "rng"
   ]
  },
  {
   "cell_type": "code",
   "execution_count": null,
   "metadata": {},
   "outputs": [],
   "source": []
  }
 ],
 "metadata": {
  "kernelspec": {
   "display_name": "Python 3",
   "language": "python",
   "name": "python3"
  },
  "language_info": {
   "codemirror_mode": {
    "name": "ipython",
    "version": 3
   },
   "file_extension": ".py",
   "mimetype": "text/x-python",
   "name": "python",
   "nbconvert_exporter": "python",
   "pygments_lexer": "ipython3",
   "version": "3.7.6"
  }
 },
 "nbformat": 4,
 "nbformat_minor": 4
}
