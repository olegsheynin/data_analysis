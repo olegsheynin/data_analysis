{
 "cells": [
  {
   "cell_type": "code",
   "execution_count": 4,
   "metadata": {},
   "outputs": [
    {
     "name": "stdout",
     "output_type": "stream",
     "text": [
      "    ISO3               Country\n",
      "0    AFG           Afghanistan\n",
      "1    AGO                Angola\n",
      "2    ALB               Albania\n",
      "3    AND               Andorra\n",
      "4    ARE  United Arab Emirates\n",
      "..   ...                   ...\n",
      "175  XKO                Kosovo\n",
      "176  YEM                 Yemen\n",
      "177  ZAF          South Africa\n",
      "178  ZMB                Zambia\n",
      "179  ZWE              Zimbabwe\n",
      "\n",
      "[180 rows x 2 columns]\n",
      "    ISO3  WPFR_rank_2020\n",
      "0    AFG             122\n",
      "1    AGO             106\n",
      "2    ALB              84\n",
      "3    AND              37\n",
      "4    ARE             131\n",
      "..   ...             ...\n",
      "175  XKO              70\n",
      "176  YEM             167\n",
      "177  ZAF              31\n",
      "178  ZMB             120\n",
      "179  ZWE             126\n",
      "\n",
      "[180 rows x 2 columns]\n",
      "    ISO3  CPI_score_2019\n",
      "0    DNK              87\n",
      "1    NZL              87\n",
      "2    FIN              86\n",
      "3    SGP              85\n",
      "4    SWE              85\n",
      "..   ...             ...\n",
      "175  VEN              16\n",
      "176  YEM              15\n",
      "177  SYR              13\n",
      "178  SSD              12\n",
      "179  SOM               9\n",
      "\n",
      "[180 rows x 2 columns]\n"
     ]
    }
   ],
   "source": [
    "import numpy as np\n",
    "from matplotlib import pyplot as plt\n",
    "import pandas as pd\n",
    "\n",
    "# ISO3: contry codes\n",
    "ISO3 = pd.read_csv('ISO3.csv')\n",
    "\n",
    "# World Free Press Index\n",
    "WFPI = pd.read_csv('WPFI2020.csv')\n",
    "\n",
    "# Transparency Internamtion Corruption Perception Index\n",
    "CPI = pd.read_csv('CPI2019.csv')\n",
    "\n",
    "print(ISO3)\n",
    "\n",
    "print(WFPI)\n",
    "\n",
    "print(CPI)\n"
   ]
  }
 ],
 "metadata": {
  "kernelspec": {
   "display_name": "Python 3",
   "language": "python",
   "name": "python3"
  },
  "language_info": {
   "codemirror_mode": {
    "name": "ipython",
    "version": 3
   },
   "file_extension": ".py",
   "mimetype": "text/x-python",
   "name": "python",
   "nbconvert_exporter": "python",
   "pygments_lexer": "ipython3",
   "version": "3.7.6"
  }
 },
 "nbformat": 4,
 "nbformat_minor": 4
}
