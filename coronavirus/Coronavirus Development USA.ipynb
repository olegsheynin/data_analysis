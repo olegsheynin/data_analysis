{
 "cells": [
  {
   "cell_type": "code",
   "execution_count": null,
   "metadata": {},
   "outputs": [],
   "source": [
    "import numpy as np\n",
    "from matplotlib import pyplot as plt\n",
    "import pandas as pd\n",
    "cv_data_usa = pd.read_csv('cv-dev-usa.csv', parse_dates=[\"Date\"], index_col=\"Date\").dropna()\n",
    "cv_data_world = pd.read_csv('cv-dev-world.csv', parse_dates=[\"Date\"], index_col=\"Date\").dropna()\n",
    "\n",
    "cv_data = cv_data_usa\n"
   ]
  },
  {
   "cell_type": "code",
   "execution_count": null,
   "metadata": {
    "jupyter": {
     "source_hidden": true
    }
   },
   "outputs": [],
   "source": [
    "dead = cv_data.Dead\n",
    "recovered = cv_data.Recovered\n",
    "\n",
    "df = (pd.DataFrame({\"Dead\":dead\n",
    "                   , \"Recovered\" : recovered\n",
    "                  }\n",
    "                  , index=cv_data.index)\n",
    "          .resample(\"1W\")\n",
    "          .max()\n",
    "     )\n",
    "\n",
    "df.plot(kind='line'\n",
    "        , figsize=(14, 6)\n",
    "        , legend=True\n",
    "        , label=\"Completed Cases\"\n",
    "        , grid = True\n",
    "        , color = ['red', 'green']\n",
    "        , title = \"Death/Recovery Update\"\n",
    "        )\n",
    "# Weekly\n",
    "df.resample(\"1W\").max().plot(kind='bar'\n",
    "        , stacked=True\n",
    "        , figsize=(14, 6)\n",
    "        , legend=True\n",
    "        , label=\"Completed Cases\"\n",
    "        , grid = True\n",
    "        , align = 'center'\n",
    "        , color = ['red', 'green']\n",
    "        , title = \"Death/Recovery Weekly Update\"\n",
    "        )\n",
    "plt.gcf().autofmt_xdate()\n",
    "plt.show()\n",
    "\n"
   ]
  },
  {
   "cell_type": "code",
   "execution_count": null,
   "metadata": {
    "jupyter": {
     "source_hidden": true
    }
   },
   "outputs": [],
   "source": [
    "\n",
    "\n",
    "\n",
    "# plt.figure(num=None, figsize=(14,6), dpi=80, facecolor='#dddddd', edgecolor='k')\n",
    "def growth_pcnt(ser): \n",
    "    return (ser - ser.shift(1)) / ser * 100\n",
    "\n",
    "df = pd.DataFrame(growth_pcnt(cv_data.Dead), index=cv_data.index)\n",
    "df.plot(\n",
    "    kind = 'line'\n",
    "    , title = 'Added Deaths Rate - full range (%)'\n",
    "    , figsize=(14, 6)\n",
    "    , grid = True\n",
    "    , style = '.-'\n",
    "    , color = ['brown']\n",
    ")\n",
    "\n",
    "df[30:].plot(\n",
    "    kind = 'line'\n",
    "    , title = 'The Rate of Added Deaths (%)'\n",
    "    , figsize=(14, 6)\n",
    "    , grid = True\n",
    "    , style = '.-'\n",
    "#     , color = ['brown']\n",
    ")\n",
    "plt.show()\n",
    "\n"
   ]
  },
  {
   "cell_type": "code",
   "execution_count": null,
   "metadata": {
    "jupyter": {
     "source_hidden": true
    }
   },
   "outputs": [],
   "source": [
    "# Death rate in completed cases\n",
    "death_rate = pd.DataFrame(dead / (cv_data.Dead + cv_data.Recovered) * 100.0\n",
    "                          , index=cv_data.index)\n",
    "death_rate.plot(\n",
    "    kind = 'line'\n",
    "    , title = 'Deaths/Completed Rate (%)'\n",
    "    , figsize=(14, 6)\n",
    "    , grid = True\n",
    "    , style = '.-'\n",
    "    , color = ['brown']\n",
    ")\n",
    "print(death_rate.tail(3))\n",
    "plt.show()"
   ]
  },
  {
   "cell_type": "code",
   "execution_count": null,
   "metadata": {
    "jupyter": {
     "source_hidden": true
    }
   },
   "outputs": [],
   "source": [
    "# Deaths daily additions\n",
    "df = (cv_data.Dead - cv_data.Dead.shift(1)).dropna()\n",
    "df.shift(30).dropna().plot(\n",
    "    title=\"Daily Death Addition\"\n",
    "    , figsize=(14, 6)\n",
    "    , grid = True\n",
    "    , color = ['brown']\n",
    ")\n",
    "df.rolling(30).mean().dropna().plot(grid=True, legend=True, label=\"30 days MA\")\n",
    "plt.show()\n"
   ]
  },
  {
   "cell_type": "code",
   "execution_count": null,
   "metadata": {
    "jupyter": {
     "source_hidden": true
    }
   },
   "outputs": [],
   "source": [
    "# Remaining open cases\n",
    "df = (cv_data.Confirmed - cv_data.Dead - cv_data.Recovered).dropna()\n",
    "df.plot(\n",
    "    title=\"Remaining Open Cases\"\n",
    "    , figsize=(14, 6)\n",
    "    , grid = True\n",
    "    , color = ['blue']\n",
    ")\n"
   ]
  },
  {
   "cell_type": "code",
   "execution_count": null,
   "metadata": {
    "jupyter": {
     "source_hidden": true
    }
   },
   "outputs": [],
   "source": [
    "# import numpy as np\n",
    "# from matplotlib import pyplot as plt\n",
    "# import pandas as pd\n",
    "# cv_data = pd.read_csv('cv-dev-usa.csv', parse_dates=True, index_col=0)\n",
    "\n",
    "confirmed_new = (cv_data.Confirmed - cv_data.Confirmed.shift(1)).dropna()\n",
    "dead_new = (cv_data.Dead - cv_data.Dead.shift(1)).dropna()\n",
    "recovered_new = (cv_data.Recovered - cv_data.Recovered.shift(1)).dropna()\n",
    "\n",
    "growth = pd.Series((confirmed_new - (dead_new + recovered_new)).array\n",
    "                   , index=cv_data.index[1:]).dropna()\n",
    "\n",
    "growth.plot(figsize=(14, 6)\n",
    "            , title=\"Added New Cases\"\n",
    "            , legend=True\n",
    "            , label=\"New Cases\"\n",
    "            , style='.-')\n",
    "# growth.rolling(10).mean().plot(grid=True, legend=True, label=\"10 days MA\")\n",
    "# growth.rolling(20).mean().plot(grid=True, legend=True, label=\"20 days MA\")\n",
    "growth.rolling(30).mean().plot(grid=True, legend=True, label=\"30 days MA\")\n",
    "print(growth.tail(5))\n",
    "plt.show()\n"
   ]
  },
  {
   "cell_type": "code",
   "execution_count": null,
   "metadata": {
    "jupyter": {
     "source_hidden": true
    }
   },
   "outputs": [],
   "source": [
    "# New Cases -> Deathes Correlation\n",
    "# import numpy as np\n",
    "# from matplotlib import pyplot as plt\n",
    "# import pandas as pd\n",
    "\n",
    "# Mortality to confirmed after offsetDays and for cumm_wnd_days\n",
    "def calcCorrelation(cumm_wnd_days : int\n",
    "                    , days_shift : int):\n",
    "    confirmed = cv_data.Confirmed\n",
    "    dead = cv_data.Dead\n",
    "    # accumulate total confirmed during that \"cumm_wnd_days\" days\n",
    "    cumm_conf = (confirmed - confirmed.shift(cumm_wnd_days)).dropna().shift(days_shift)\n",
    "\n",
    "    # death accumulate for same windows but \"offsetDays\" later\n",
    "    dead_shift = dead.shift(days_shift)\n",
    "    cumm_dead = (dead_shift -  dead_shift.shift(cumm_wnd_days)).dropna()\n",
    "\n",
    "    ratio = cumm_dead * 100 / cumm_conf\n",
    "    return ratio.corr(cumm_conf) \n",
    "\n",
    "\n",
    "def mortalityToNewCasesRatio(cumm_wnd_days : int\n",
    "                             , offset_days : int):\n",
    "    confirmed = cv_data.Confirmed\n",
    "    dead = cv_data.Dead\n",
    "    # accumulate total confirmed during that \"cummDaysWindow\" days\n",
    "    cumm_conf = confirmed - confirmed.shift(cumm_wnd_days)\n",
    "\n",
    "    # death accumulate for same windows but \"offset_days\" later\n",
    "    deadOffset = dead.shift(offset_days)\n",
    "    cummDead = deadOffset -  deadOffset.shift(cumm_wnd_days)\n",
    "\n",
    "    res = cummDead * 100 / cumm_conf\n",
    "    return res\n",
    "\n",
    "def correlation(cum_wnd_days: int):\n",
    "    num_observ_days = len(cv_data.index) - 2 *cum_wnd_days\n",
    "    after_days_arr = range(1, num_observ_days)\n",
    "    \n",
    "    corr_arr = [calcCorrelation(cum_wnd_days, after_days) \n",
    "               for after_days in after_days_arr]\n",
    "    return pd.DataFrame(data={'Correlation': corr_arr}, index=after_days_arr)\n",
    "    \n",
    "def plot_correlation_chart(corr : pd.DataFrame\n",
    "                          , cum_wnd_days: int):\n",
    "    corr.plot(figsize=(14, 8)\n",
    "             , title=f\"Mortality/New Cases Day Shift correlation\\nCumm Window = {cum_wnd_days} days\"\n",
    "             , legend=False, label=\"Correlation\") \n",
    "    plt.ylabel(\"Correlation\")\n",
    "    plt.xlabel(\"Day Shift\")\n",
    "    plt.show()\n",
    "    \n",
    "def plot_cases_mortality_chart(cv_data, **kwargs):\n",
    "    cumm_wnd_days = kwargs[\"window_size\"]\n",
    "    days_shift = kwargs[\"offset_days\"]\n",
    "    maDays = kwargs[\"ma_days\"] if \"ma_days\" in kwargs else 5\n",
    "\n",
    "    ratio = mortalityToNewCasesRatio(cumm_wnd_days\n",
    "                                    , days_shift).dropna()\n",
    "    ratio.plot(title=f\"Offset: {days_shift} days\\nCummulative Window: {cumm_wnd_days} days\"\n",
    "           , figsize=(14, 8)\n",
    "           , grid=True\n",
    "           , legend=True\n",
    "           , label=\"Mortality to New Cases Ratio\"\n",
    "           )\n",
    "\n",
    "    ratio.rolling(maDays).mean().plot(grid=True\n",
    "                                  , label=\"{} days MA\".format(maDays)\n",
    "                                  , legend=True)\n",
    "    plt.ylabel(\"Ratio (%)\")\n",
    "    plt.show()\n",
    "    print(ratio.tail(5))\n",
    "\n",
    "# --- main\n",
    "# # for cum_wnd_days in [15, 20, 30]:\n",
    "# #     plot_correlation_chart(confirmed, dead, cum_wnd_days)\n",
    "\n",
    "cum_wnd_days = 15\n",
    "corr = correlation(cum_wnd_days)\n",
    "plot_cases_mortality_chart(cv_data\n",
    "                           , window_size=cum_wnd_days\n",
    "                           , offset_days=cum_wnd_days \n",
    "                           , ma_days=10)\n",
    "\n",
    "plot_correlation_chart(corr, cum_wnd_days)\n",
    "plot_cases_mortality_chart(cv_data\n",
    "                           , window_size=cum_wnd_days\n",
    "                           , offset_days=corr.idxmax()[0] # taking maximal correlation value\n",
    "                           , ma_days=10)\n",
    "\n"
   ]
  }
 ],
 "metadata": {
  "kernelspec": {
   "display_name": "Python 3",
   "language": "python",
   "name": "python3"
  },
  "language_info": {
   "codemirror_mode": {
    "name": "ipython",
    "version": 3
   },
   "file_extension": ".py",
   "mimetype": "text/x-python",
   "name": "python",
   "nbconvert_exporter": "python",
   "pygments_lexer": "ipython3",
   "version": "3.7.6"
  }
 },
 "nbformat": 4,
 "nbformat_minor": 4
}
